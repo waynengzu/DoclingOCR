{
  "cells": [
    {
      "cell_type": "code",
      "execution_count": null,
      "id": "00e438b0-0f7b-4f25-912c-99f72df8c81d",
      "metadata": {
        "id": "00e438b0-0f7b-4f25-912c-99f72df8c81d",
        "outputId": "2432b251-dc1a-4dd9-902d-300b8e18c454",
        "colab": {
          "base_uri": "https://localhost:8080/"
        }
      },
      "outputs": [
        {
          "output_type": "stream",
          "name": "stdout",
          "text": [
            "Collecting apted\n",
            "  Downloading apted-1.0.3-py3-none-any.whl.metadata (6.0 kB)\n",
            "Collecting distance\n",
            "  Downloading Distance-0.1.3.tar.gz (180 kB)\n",
            "\u001b[2K     \u001b[90m━━━━━━━━━━━━━━━━━━━━━━━━━━━━━━━━━━━━━━━━\u001b[0m \u001b[32m180.3/180.3 kB\u001b[0m \u001b[31m3.1 MB/s\u001b[0m eta \u001b[36m0:00:00\u001b[0m\n",
            "\u001b[?25h  Preparing metadata (setup.py) ... \u001b[?25l\u001b[?25hdone\n",
            "Requirement already satisfied: lxml in /usr/local/lib/python3.11/dist-packages (5.3.0)\n",
            "Requirement already satisfied: tqdm in /usr/local/lib/python3.11/dist-packages (4.67.1)\n",
            "Downloading apted-1.0.3-py3-none-any.whl (40 kB)\n",
            "\u001b[2K   \u001b[90m━━━━━━━━━━━━━━━━━━━━━━━━━━━━━━━━━━━━━━━━\u001b[0m \u001b[32m40.6/40.6 kB\u001b[0m \u001b[31m2.0 MB/s\u001b[0m eta \u001b[36m0:00:00\u001b[0m\n",
            "\u001b[?25hBuilding wheels for collected packages: distance\n",
            "  Building wheel for distance (setup.py) ... \u001b[?25l\u001b[?25hdone\n",
            "  Created wheel for distance: filename=Distance-0.1.3-py3-none-any.whl size=16256 sha256=bbdc9c905872727d4403b3ca262c551d336805fb0b58cb49d4c62011aaf0ae30\n",
            "  Stored in directory: /root/.cache/pip/wheels/fb/cd/9c/3ab5d666e3bcacc58900b10959edd3816cc9557c7337986322\n",
            "Successfully built distance\n",
            "Installing collected packages: distance, apted\n",
            "Successfully installed apted-1.0.3 distance-0.1.3\n"
          ]
        }
      ],
      "source": [
        "!pip install apted distance lxml tqdm"
      ]
    },
    {
      "cell_type": "code",
      "execution_count": null,
      "id": "d15b6842-a034-4ce7-b361-e461c86db132",
      "metadata": {
        "id": "d15b6842-a034-4ce7-b361-e461c86db132"
      },
      "outputs": [],
      "source": [
        "import pandas as pd\n",
        "import numpy as np\n",
        "import sys"
      ]
    },
    {
      "cell_type": "code",
      "execution_count": null,
      "id": "7926be6d-84cd-46cc-9cb9-3a401811e7c7",
      "metadata": {
        "id": "7926be6d-84cd-46cc-9cb9-3a401811e7c7",
        "outputId": "968e5fd7-d168-4f0f-a46c-d34c7e06aad4",
        "colab": {
          "base_uri": "https://localhost:8080/"
        }
      },
      "outputs": [
        {
          "output_type": "stream",
          "name": "stdout",
          "text": [
            "Cloning into '/Codes/PubTabNet'...\n",
            "remote: Enumerating objects: 177, done.\u001b[K\n",
            "remote: Counting objects: 100% (17/17), done.\u001b[K\n",
            "remote: Compressing objects: 100% (16/16), done.\u001b[K\n",
            "remote: Total 177 (delta 4), reused 6 (delta 1), pack-reused 160 (from 1)\u001b[K\n",
            "Receiving objects: 100% (177/177), 5.14 MiB | 7.61 MiB/s, done.\n",
            "Resolving deltas: 100% (76/76), done.\n"
          ]
        }
      ],
      "source": [
        "!git clone https://github.com/ibm-aur-nlp/PubTabNet.git /Codes/PubTabNet/\n",
        "sys.path.append('/Codes/PubTabNet/src/')"
      ]
    },
    {
      "cell_type": "code",
      "execution_count": null,
      "id": "5a76cd3b-a03a-4af6-ad08-8b99d1fddf34",
      "metadata": {
        "id": "5a76cd3b-a03a-4af6-ad08-8b99d1fddf34"
      },
      "outputs": [],
      "source": [
        "from metric import TEDS\n",
        "from bs4 import BeautifulSoup\n",
        "from lxml import etree"
      ]
    },
    {
      "cell_type": "code",
      "source": [
        "def ensure_html_structure(file_paths):\n",
        "     for file_path in file_paths:\n",
        "         # Open the HTML file and read its content\n",
        "         with open(file_path, 'r', encoding='utf-8') as file:\n",
        "             content = file.read()\n",
        "\n",
        "         # Check and add <html><head></head><body> at the top if missing\n",
        "         if not content.strip().startswith('<html>'):\n",
        "             content = '<html><head></head><body>\\n' + content\n",
        "\n",
        "         # Check and add </body></html> at the bottom if missing\n",
        "         if not content.strip().endswith('</body></html>'):\n",
        "             content = content.rstrip() + '\\n</body></html>'\n",
        "\n",
        "         # Write the updated content back to the file\n",
        "         with open(file_path, 'w', encoding='utf-8') as file:\n",
        "             file.write(content)\n",
        "\n",
        " # List of files to process\n",
        "file_paths = [\n",
        "     '/content/Ground Truth.html',\n",
        "     '/content/_Maybank AR 2023_Financial Statements-31-0-table-1 (12).html'\n",
        " ]\n",
        "\n",
        " # Ensure HTML structure for all files\n",
        "ensure_html_structure(file_paths)"
      ],
      "metadata": {
        "id": "g02AGVKfuBsS"
      },
      "id": "g02AGVKfuBsS",
      "execution_count": null,
      "outputs": []
    },
    {
      "cell_type": "code",
      "execution_count": null,
      "id": "1dba0ab5-915e-4164-b527-3971324bca36",
      "metadata": {
        "id": "1dba0ab5-915e-4164-b527-3971324bca36"
      },
      "outputs": [],
      "source": [
        "# Open the HTML file and read its content\n",
        "with open('/content/Ground Truth.html', 'r', encoding='utf-8') as file:\n",
        "    true = file.read()\n",
        "\n",
        "with open('/content/_Maybank AR 2023_Financial Statements-31-0-table-1 (12).html', 'r', encoding='utf-8') as file:\n",
        "    pred1 = file.read()\n"
      ]
    },
    {
      "cell_type": "code",
      "execution_count": null,
      "id": "67ccc776-2baa-401e-9eed-be047bfb452b",
      "metadata": {
        "id": "67ccc776-2baa-401e-9eed-be047bfb452b",
        "outputId": "8c0a1fee-fda3-451f-d826-c066c61a61f4",
        "colab": {
          "base_uri": "https://localhost:8080/"
        }
      },
      "outputs": [
        {
          "output_type": "stream",
          "name": "stdout",
          "text": [
            "Comparison Ground Truth with Ground Truth:  1.0\n",
            "Comparison Ground Truth with Docling:  0.9064680763645213\n"
          ]
        }
      ],
      "source": [
        "# Initialize TEDS object\n",
        "teds = TEDS()\n",
        "# Evaluate\n",
        "score = teds.evaluate(true, true)\n",
        "print(\"Comparison Ground Truth with Ground Truth: \",score)\n",
        "score = teds.evaluate(pred1, true)\n",
        "print(\"Comparison Ground Truth with Docling: \",score)"
      ]
    }
  ],
  "metadata": {
    "kernelspec": {
      "display_name": "Python 3 (ipykernel)",
      "language": "python",
      "name": "python3"
    },
    "language_info": {
      "codemirror_mode": {
        "name": "ipython",
        "version": 3
      },
      "file_extension": ".py",
      "mimetype": "text/x-python",
      "name": "python",
      "nbconvert_exporter": "python",
      "pygments_lexer": "ipython3",
      "version": "3.12.7"
    },
    "colab": {
      "provenance": []
    }
  },
  "nbformat": 4,
  "nbformat_minor": 5
}